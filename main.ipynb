{
 "cells": [
  {
   "cell_type": "markdown",
   "metadata": {
    "id": "aoK_TEzKw0cX"
   },
   "source": [
    "## Import libraries"
   ]
  },
  {
   "cell_type": "markdown",
   "metadata": {
    "id": "b2PIJs73w0cY"
   },
   "source": [
    "### Run on colab"
   ]
  },
  {
   "cell_type": "code",
   "execution_count": null,
   "metadata": {
    "colab": {
     "base_uri": "https://localhost:8080/"
    },
    "id": "bW7nDpRfw0cY",
    "outputId": "207757cf-b2e8-4ea4-d433-3ab173628f7e"
   },
   "outputs": [
    {
     "name": "stdout",
     "output_type": "stream",
     "text": [
      "/content\n",
      "Cloning into 'GourmetAI'...\n",
      "remote: Enumerating objects: 171, done.\u001b[K\n",
      "remote: Total 171 (delta 0), reused 0 (delta 0), pack-reused 171 (from 1)\u001b[K\n",
      "Receiving objects: 100% (171/171), 159.31 MiB | 10.39 MiB/s, done.\n",
      "Resolving deltas: 100% (59/59), done.\n",
      "/content/GourmetAI\n",
      "Updating files: 100% (75/75), done.\n",
      "Branch 'colab_test' set up to track remote branch 'colab_test' from 'origin'.\n",
      "Switched to a new branch 'colab_test'\n"
     ]
    }
   ],
   "source": [
    "%cd /content\n",
    "!git clone https://github.com/Giovannicus/GreenTech-AI.git\n",
    "%cd GreenTech-AI\n",
    "!git checkout main"
   ]
  },
  {
   "cell_type": "markdown",
   "metadata": {},
   "source": [
    "### install libraries"
   ]
  },
  {
   "cell_type": "code",
   "execution_count": null,
   "metadata": {},
   "outputs": [],
   "source": [
    "!pip install -r requirements.txt"
   ]
  },
  {
   "cell_type": "code",
   "execution_count": 1,
   "metadata": {
    "colab": {
     "base_uri": "https://localhost:8080/"
    },
    "id": "WzUCo5fJdbO4",
    "outputId": "f8c9ccb2-b29d-49cd-cbe8-a7a4fb5c35a5"
   },
   "outputs": [
    {
     "name": "stderr",
     "output_type": "stream",
     "text": [
      "c:\\Users\\gcusumano\\ProfAI\\GreenTech-AI\\.venv\\Lib\\site-packages\\albumentations\\__init__.py:24: UserWarning: A new version of Albumentations is available: 1.4.21 (you have 1.4.20). Upgrade using: pip install -U albumentations. To disable automatic update checks, set the environment variable NO_ALBUMENTATIONS_UPDATE to 1.\n",
      "  check_for_updates()\n"
     ]
    }
   ],
   "source": [
    "import torch\n",
    "import torch.nn as nn\n",
    "import torch.nn.init as init\n",
    "import os\n",
    "import torch.optim as optim\n",
    "import torchvision\n",
    "from torchvision.models import vgg16, VGG16_Weights\n",
    "import numpy as np\n",
    "import albumentations as A\n",
    "from albumentations.pytorch import ToTensorV2\n",
    "from src import *\n",
    "from torchinfo import summary\n",
    "import logging\n",
    "import time"
   ]
  },
  {
   "cell_type": "markdown",
   "metadata": {
    "id": "WYrW9IAYw0cZ"
   },
   "source": [
    "## Data preprocessing"
   ]
  },
  {
   "cell_type": "markdown",
   "metadata": {},
   "source": [
    "### extract images zip"
   ]
  },
  {
   "cell_type": "code",
   "execution_count": null,
   "metadata": {
    "colab": {
     "base_uri": "https://localhost:8080/"
    },
    "id": "Ou1scoZfbltP",
    "outputId": "b4b39f7e-24af-4757-e3d0-7370e6bbd463"
   },
   "outputs": [],
   "source": [
    "# avoid time consuming importing dataset on colab, unzipping is faster\n",
    "download_and_extract(\"https://proai-datasets.s3.eu-west-3.amazonaws.com/progetto-finale-flowes.tar.gz\")"
   ]
  },
  {
   "cell_type": "markdown",
   "metadata": {},
   "source": [
    "### transform and get dataloaders"
   ]
  },
  {
   "cell_type": "code",
   "execution_count": 2,
   "metadata": {
    "id": "nJ2nqRlmdSGe"
   },
   "outputs": [],
   "source": [
    "# transform images to get some augmentation\n",
    "class Transforms:\n",
    "    def __init__(self, transforms):\n",
    "        self.transforms = transforms\n",
    "\n",
    "    def __call__(self, img, *args, **kwargs):\n",
    "        return self.transforms(image=np.array(img))['image']\n",
    "\n",
    "transform = A.Compose([\n",
    "        A.Resize(224, 224),\n",
    "        A.HorizontalFlip(),\n",
    "        A.Rotate(limit=10),\n",
    "        A.Normalize((0.5, 0.5, 0.5), (0.5, 0.5, 0.5)),\n",
    "        ToTensorV2(),\n",
    "      ])\n",
    "\n",
    "transform2 = A.Compose([\n",
    "        A.Resize(224, 224),\n",
    "        A.Normalize((0.5, 0.5, 0.5), (0.5, 0.5, 0.5)),\n",
    "        ToTensorV2(),\n",
    "      ])"
   ]
  },
  {
   "cell_type": "code",
   "execution_count": 3,
   "metadata": {
    "id": "wQzscBNVhTF1"
   },
   "outputs": [],
   "source": [
    "trainset = torchvision.datasets.ImageFolder(root='dataset/train', transform=Transforms(transform))\n",
    "valset = torchvision.datasets.ImageFolder(root='dataset/valid', transform=Transforms(transform2))\n",
    "testset = torchvision.datasets.ImageFolder(root='dataset/test',transform=Transforms(transform2))"
   ]
  },
  {
   "cell_type": "code",
   "execution_count": 4,
   "metadata": {
    "colab": {
     "base_uri": "https://localhost:8080/"
    },
    "id": "XGH1S9XphWP-",
    "outputId": "cf0ee053-46c0-4743-fa97-956a618062f0"
   },
   "outputs": [
    {
     "data": {
      "text/plain": [
       "(1275, 364, 182)"
      ]
     },
     "execution_count": 4,
     "metadata": {},
     "output_type": "execute_result"
    }
   ],
   "source": [
    "len(trainset), len(valset), len(testset)"
   ]
  },
  {
   "cell_type": "code",
   "execution_count": 5,
   "metadata": {},
   "outputs": [],
   "source": [
    "def fix_path(path_tuple):\n",
    "    path, label = path_tuple\n",
    "    fixed_path = path.replace('\\\\', '/')\n",
    "    return (fixed_path, label)"
   ]
  },
  {
   "cell_type": "code",
   "execution_count": 6,
   "metadata": {},
   "outputs": [],
   "source": [
    "trainset.imgs = [fix_path(item) for item in trainset.imgs]\n",
    "valset.imgs = [fix_path(item) for item in valset.imgs]\n",
    "testset.imgs = [fix_path(item) for item in testset.imgs]"
   ]
  },
  {
   "cell_type": "code",
   "execution_count": 7,
   "metadata": {
    "id": "tmRwbkfZhd6_"
   },
   "outputs": [],
   "source": [
    "from torch.utils.data import Subset\n",
    "batch_size=32\n",
    "\n",
    "# stratified kfold to avoid unbalanced dataset\n",
    "train_indices = get_balanced_indices(trainset, len(trainset))\n",
    "val_indices = get_balanced_indices(valset, len(valset))\n",
    "test_indices = get_balanced_indices(testset, len(testset))\n",
    "\n",
    "balanced_trainset = Subset(trainset, train_indices)\n",
    "balanced_valset = Subset(valset, val_indices)\n",
    "balanced_testset = Subset(testset, test_indices)\n",
    "\n",
    "trainloader = torch.utils.data.DataLoader(balanced_trainset,batch_size=batch_size,shuffle=True) \n",
    "valloader = torch.utils.data.DataLoader(balanced_valset,batch_size=batch_size,shuffle=False)\n",
    "testloader = torch.utils.data.DataLoader(balanced_testset,batch_size=batch_size,shuffle=False)\n"
   ]
  },
  {
   "cell_type": "markdown",
   "metadata": {},
   "source": [
    "### check distribution "
   ]
  },
  {
   "cell_type": "code",
   "execution_count": 8,
   "metadata": {},
   "outputs": [],
   "source": [
    "label_counts = torch.zeros(len(trainset.classes))\n",
    "for _, labels in trainloader.dataset.dataset.imgs:\n",
    "    label_counts[labels] += 1"
   ]
  },
  {
   "cell_type": "code",
   "execution_count": 9,
   "metadata": {
    "colab": {
     "base_uri": "https://localhost:8080/"
    },
    "id": "PXGY6Edbw0cb",
    "outputId": "9943d503-71e2-40a4-ab34-479ec3dc1745"
   },
   "outputs": [
    {
     "data": {
      "application/vnd.plotly.v1+json": {
       "config": {
        "plotlyServerURL": "https://plot.ly"
       },
       "data": [
        {
         "hole": 0.3,
         "hoverinfo": "text",
         "hovertext": [
          "daisy<br>Count: 529<br>Percentage: 41.5%",
          "dandelion<br>Count: 746<br>Percentage: 58.5%"
         ],
         "labels": [
          "daisy",
          "dandelion"
         ],
         "pull": [
          0.02,
          0.02
         ],
         "textfont": {
          "size": 12
         },
         "textinfo": "label+percent",
         "textposition": "outside",
         "type": "pie",
         "values": [
          529,
          746
         ]
        }
       ],
       "layout": {
        "height": 600,
        "legend": {
         "orientation": "v",
         "x": -0.3,
         "xanchor": "center",
         "y": 1,
         "yanchor": "middle"
        },
        "margin": {
         "b": 10,
         "l": 10,
         "r": 100,
         "t": 10
        },
        "paper_bgcolor": "rgba(255255,255,.1)",
        "plot_bgcolor": "rgba(0,0,0,0)",
        "showlegend": true,
        "template": {
         "data": {
          "bar": [
           {
            "error_x": {
             "color": "#2a3f5f"
            },
            "error_y": {
             "color": "#2a3f5f"
            },
            "marker": {
             "line": {
              "color": "#E5ECF6",
              "width": 0.5
             },
             "pattern": {
              "fillmode": "overlay",
              "size": 10,
              "solidity": 0.2
             }
            },
            "type": "bar"
           }
          ],
          "barpolar": [
           {
            "marker": {
             "line": {
              "color": "#E5ECF6",
              "width": 0.5
             },
             "pattern": {
              "fillmode": "overlay",
              "size": 10,
              "solidity": 0.2
             }
            },
            "type": "barpolar"
           }
          ],
          "carpet": [
           {
            "aaxis": {
             "endlinecolor": "#2a3f5f",
             "gridcolor": "white",
             "linecolor": "white",
             "minorgridcolor": "white",
             "startlinecolor": "#2a3f5f"
            },
            "baxis": {
             "endlinecolor": "#2a3f5f",
             "gridcolor": "white",
             "linecolor": "white",
             "minorgridcolor": "white",
             "startlinecolor": "#2a3f5f"
            },
            "type": "carpet"
           }
          ],
          "choropleth": [
           {
            "colorbar": {
             "outlinewidth": 0,
             "ticks": ""
            },
            "type": "choropleth"
           }
          ],
          "contour": [
           {
            "colorbar": {
             "outlinewidth": 0,
             "ticks": ""
            },
            "colorscale": [
             [
              0,
              "#0d0887"
             ],
             [
              0.1111111111111111,
              "#46039f"
             ],
             [
              0.2222222222222222,
              "#7201a8"
             ],
             [
              0.3333333333333333,
              "#9c179e"
             ],
             [
              0.4444444444444444,
              "#bd3786"
             ],
             [
              0.5555555555555556,
              "#d8576b"
             ],
             [
              0.6666666666666666,
              "#ed7953"
             ],
             [
              0.7777777777777778,
              "#fb9f3a"
             ],
             [
              0.8888888888888888,
              "#fdca26"
             ],
             [
              1,
              "#f0f921"
             ]
            ],
            "type": "contour"
           }
          ],
          "contourcarpet": [
           {
            "colorbar": {
             "outlinewidth": 0,
             "ticks": ""
            },
            "type": "contourcarpet"
           }
          ],
          "heatmap": [
           {
            "colorbar": {
             "outlinewidth": 0,
             "ticks": ""
            },
            "colorscale": [
             [
              0,
              "#0d0887"
             ],
             [
              0.1111111111111111,
              "#46039f"
             ],
             [
              0.2222222222222222,
              "#7201a8"
             ],
             [
              0.3333333333333333,
              "#9c179e"
             ],
             [
              0.4444444444444444,
              "#bd3786"
             ],
             [
              0.5555555555555556,
              "#d8576b"
             ],
             [
              0.6666666666666666,
              "#ed7953"
             ],
             [
              0.7777777777777778,
              "#fb9f3a"
             ],
             [
              0.8888888888888888,
              "#fdca26"
             ],
             [
              1,
              "#f0f921"
             ]
            ],
            "type": "heatmap"
           }
          ],
          "heatmapgl": [
           {
            "colorbar": {
             "outlinewidth": 0,
             "ticks": ""
            },
            "colorscale": [
             [
              0,
              "#0d0887"
             ],
             [
              0.1111111111111111,
              "#46039f"
             ],
             [
              0.2222222222222222,
              "#7201a8"
             ],
             [
              0.3333333333333333,
              "#9c179e"
             ],
             [
              0.4444444444444444,
              "#bd3786"
             ],
             [
              0.5555555555555556,
              "#d8576b"
             ],
             [
              0.6666666666666666,
              "#ed7953"
             ],
             [
              0.7777777777777778,
              "#fb9f3a"
             ],
             [
              0.8888888888888888,
              "#fdca26"
             ],
             [
              1,
              "#f0f921"
             ]
            ],
            "type": "heatmapgl"
           }
          ],
          "histogram": [
           {
            "marker": {
             "pattern": {
              "fillmode": "overlay",
              "size": 10,
              "solidity": 0.2
             }
            },
            "type": "histogram"
           }
          ],
          "histogram2d": [
           {
            "colorbar": {
             "outlinewidth": 0,
             "ticks": ""
            },
            "colorscale": [
             [
              0,
              "#0d0887"
             ],
             [
              0.1111111111111111,
              "#46039f"
             ],
             [
              0.2222222222222222,
              "#7201a8"
             ],
             [
              0.3333333333333333,
              "#9c179e"
             ],
             [
              0.4444444444444444,
              "#bd3786"
             ],
             [
              0.5555555555555556,
              "#d8576b"
             ],
             [
              0.6666666666666666,
              "#ed7953"
             ],
             [
              0.7777777777777778,
              "#fb9f3a"
             ],
             [
              0.8888888888888888,
              "#fdca26"
             ],
             [
              1,
              "#f0f921"
             ]
            ],
            "type": "histogram2d"
           }
          ],
          "histogram2dcontour": [
           {
            "colorbar": {
             "outlinewidth": 0,
             "ticks": ""
            },
            "colorscale": [
             [
              0,
              "#0d0887"
             ],
             [
              0.1111111111111111,
              "#46039f"
             ],
             [
              0.2222222222222222,
              "#7201a8"
             ],
             [
              0.3333333333333333,
              "#9c179e"
             ],
             [
              0.4444444444444444,
              "#bd3786"
             ],
             [
              0.5555555555555556,
              "#d8576b"
             ],
             [
              0.6666666666666666,
              "#ed7953"
             ],
             [
              0.7777777777777778,
              "#fb9f3a"
             ],
             [
              0.8888888888888888,
              "#fdca26"
             ],
             [
              1,
              "#f0f921"
             ]
            ],
            "type": "histogram2dcontour"
           }
          ],
          "mesh3d": [
           {
            "colorbar": {
             "outlinewidth": 0,
             "ticks": ""
            },
            "type": "mesh3d"
           }
          ],
          "parcoords": [
           {
            "line": {
             "colorbar": {
              "outlinewidth": 0,
              "ticks": ""
             }
            },
            "type": "parcoords"
           }
          ],
          "pie": [
           {
            "automargin": true,
            "type": "pie"
           }
          ],
          "scatter": [
           {
            "fillpattern": {
             "fillmode": "overlay",
             "size": 10,
             "solidity": 0.2
            },
            "type": "scatter"
           }
          ],
          "scatter3d": [
           {
            "line": {
             "colorbar": {
              "outlinewidth": 0,
              "ticks": ""
             }
            },
            "marker": {
             "colorbar": {
              "outlinewidth": 0,
              "ticks": ""
             }
            },
            "type": "scatter3d"
           }
          ],
          "scattercarpet": [
           {
            "marker": {
             "colorbar": {
              "outlinewidth": 0,
              "ticks": ""
             }
            },
            "type": "scattercarpet"
           }
          ],
          "scattergeo": [
           {
            "marker": {
             "colorbar": {
              "outlinewidth": 0,
              "ticks": ""
             }
            },
            "type": "scattergeo"
           }
          ],
          "scattergl": [
           {
            "marker": {
             "colorbar": {
              "outlinewidth": 0,
              "ticks": ""
             }
            },
            "type": "scattergl"
           }
          ],
          "scattermapbox": [
           {
            "marker": {
             "colorbar": {
              "outlinewidth": 0,
              "ticks": ""
             }
            },
            "type": "scattermapbox"
           }
          ],
          "scatterpolar": [
           {
            "marker": {
             "colorbar": {
              "outlinewidth": 0,
              "ticks": ""
             }
            },
            "type": "scatterpolar"
           }
          ],
          "scatterpolargl": [
           {
            "marker": {
             "colorbar": {
              "outlinewidth": 0,
              "ticks": ""
             }
            },
            "type": "scatterpolargl"
           }
          ],
          "scatterternary": [
           {
            "marker": {
             "colorbar": {
              "outlinewidth": 0,
              "ticks": ""
             }
            },
            "type": "scatterternary"
           }
          ],
          "surface": [
           {
            "colorbar": {
             "outlinewidth": 0,
             "ticks": ""
            },
            "colorscale": [
             [
              0,
              "#0d0887"
             ],
             [
              0.1111111111111111,
              "#46039f"
             ],
             [
              0.2222222222222222,
              "#7201a8"
             ],
             [
              0.3333333333333333,
              "#9c179e"
             ],
             [
              0.4444444444444444,
              "#bd3786"
             ],
             [
              0.5555555555555556,
              "#d8576b"
             ],
             [
              0.6666666666666666,
              "#ed7953"
             ],
             [
              0.7777777777777778,
              "#fb9f3a"
             ],
             [
              0.8888888888888888,
              "#fdca26"
             ],
             [
              1,
              "#f0f921"
             ]
            ],
            "type": "surface"
           }
          ],
          "table": [
           {
            "cells": {
             "fill": {
              "color": "#EBF0F8"
             },
             "line": {
              "color": "white"
             }
            },
            "header": {
             "fill": {
              "color": "#C8D4E3"
             },
             "line": {
              "color": "white"
             }
            },
            "type": "table"
           }
          ]
         },
         "layout": {
          "annotationdefaults": {
           "arrowcolor": "#2a3f5f",
           "arrowhead": 0,
           "arrowwidth": 1
          },
          "autotypenumbers": "strict",
          "coloraxis": {
           "colorbar": {
            "outlinewidth": 0,
            "ticks": ""
           }
          },
          "colorscale": {
           "diverging": [
            [
             0,
             "#8e0152"
            ],
            [
             0.1,
             "#c51b7d"
            ],
            [
             0.2,
             "#de77ae"
            ],
            [
             0.3,
             "#f1b6da"
            ],
            [
             0.4,
             "#fde0ef"
            ],
            [
             0.5,
             "#f7f7f7"
            ],
            [
             0.6,
             "#e6f5d0"
            ],
            [
             0.7,
             "#b8e186"
            ],
            [
             0.8,
             "#7fbc41"
            ],
            [
             0.9,
             "#4d9221"
            ],
            [
             1,
             "#276419"
            ]
           ],
           "sequential": [
            [
             0,
             "#0d0887"
            ],
            [
             0.1111111111111111,
             "#46039f"
            ],
            [
             0.2222222222222222,
             "#7201a8"
            ],
            [
             0.3333333333333333,
             "#9c179e"
            ],
            [
             0.4444444444444444,
             "#bd3786"
            ],
            [
             0.5555555555555556,
             "#d8576b"
            ],
            [
             0.6666666666666666,
             "#ed7953"
            ],
            [
             0.7777777777777778,
             "#fb9f3a"
            ],
            [
             0.8888888888888888,
             "#fdca26"
            ],
            [
             1,
             "#f0f921"
            ]
           ],
           "sequentialminus": [
            [
             0,
             "#0d0887"
            ],
            [
             0.1111111111111111,
             "#46039f"
            ],
            [
             0.2222222222222222,
             "#7201a8"
            ],
            [
             0.3333333333333333,
             "#9c179e"
            ],
            [
             0.4444444444444444,
             "#bd3786"
            ],
            [
             0.5555555555555556,
             "#d8576b"
            ],
            [
             0.6666666666666666,
             "#ed7953"
            ],
            [
             0.7777777777777778,
             "#fb9f3a"
            ],
            [
             0.8888888888888888,
             "#fdca26"
            ],
            [
             1,
             "#f0f921"
            ]
           ]
          },
          "colorway": [
           "#636efa",
           "#EF553B",
           "#00cc96",
           "#ab63fa",
           "#FFA15A",
           "#19d3f3",
           "#FF6692",
           "#B6E880",
           "#FF97FF",
           "#FECB52"
          ],
          "font": {
           "color": "#2a3f5f"
          },
          "geo": {
           "bgcolor": "white",
           "lakecolor": "white",
           "landcolor": "#E5ECF6",
           "showlakes": true,
           "showland": true,
           "subunitcolor": "white"
          },
          "hoverlabel": {
           "align": "left"
          },
          "hovermode": "closest",
          "mapbox": {
           "style": "light"
          },
          "paper_bgcolor": "white",
          "plot_bgcolor": "#E5ECF6",
          "polar": {
           "angularaxis": {
            "gridcolor": "white",
            "linecolor": "white",
            "ticks": ""
           },
           "bgcolor": "#E5ECF6",
           "radialaxis": {
            "gridcolor": "white",
            "linecolor": "white",
            "ticks": ""
           }
          },
          "scene": {
           "xaxis": {
            "backgroundcolor": "#E5ECF6",
            "gridcolor": "white",
            "gridwidth": 2,
            "linecolor": "white",
            "showbackground": true,
            "ticks": "",
            "zerolinecolor": "white"
           },
           "yaxis": {
            "backgroundcolor": "#E5ECF6",
            "gridcolor": "white",
            "gridwidth": 2,
            "linecolor": "white",
            "showbackground": true,
            "ticks": "",
            "zerolinecolor": "white"
           },
           "zaxis": {
            "backgroundcolor": "#E5ECF6",
            "gridcolor": "white",
            "gridwidth": 2,
            "linecolor": "white",
            "showbackground": true,
            "ticks": "",
            "zerolinecolor": "white"
           }
          },
          "shapedefaults": {
           "line": {
            "color": "#2a3f5f"
           }
          },
          "ternary": {
           "aaxis": {
            "gridcolor": "white",
            "linecolor": "white",
            "ticks": ""
           },
           "baxis": {
            "gridcolor": "white",
            "linecolor": "white",
            "ticks": ""
           },
           "bgcolor": "#E5ECF6",
           "caxis": {
            "gridcolor": "white",
            "linecolor": "white",
            "ticks": ""
           }
          },
          "title": {
           "x": 0.05
          },
          "xaxis": {
           "automargin": true,
           "gridcolor": "white",
           "linecolor": "white",
           "ticks": "",
           "title": {
            "standoff": 15
           },
           "zerolinecolor": "white",
           "zerolinewidth": 2
          },
          "yaxis": {
           "automargin": true,
           "gridcolor": "white",
           "linecolor": "white",
           "ticks": "",
           "title": {
            "standoff": 15
           },
           "zerolinecolor": "white",
           "zerolinewidth": 2
          }
         }
        },
        "title": {
         "font": {
          "color": "#000000",
          "size": 24
         },
         "text": "Dataset Distribution",
         "x": 0.5,
         "xanchor": "center",
         "y": 0.95
        },
        "width": 600
       }
      }
     },
     "metadata": {},
     "output_type": "display_data"
    }
   ],
   "source": [
    "# interactive pieplot\n",
    "fig = plot_class_distribution(\n",
    "    label_counts,\n",
    "    class_names=trainset.classes,\n",
    "    title=\"Dataset Distribution\",\n",
    "    paper_bgcolor=\"rgba(255255,255,.1)\",\n",
    "    plot_bgcolor=\"rgba(0,0,0,0)\",\n",
    "    t=10,b=10,l=10,r=100,\n",
    "    height=600,width=600,\n",
    "    legend_x_anchor=\"center\",\n",
    "    legend_y_anchor=\"middle\",\n",
    "    legend_orientation = \"v\",\n",
    "    legend_x = -.3,\n",
    "    legend_y = 1\n",
    ")\n",
    "fig.show()"
   ]
  },
  {
   "cell_type": "markdown",
   "metadata": {
    "id": "QwF-C6wnw0cb"
   },
   "source": [
    "## Transfer Learning"
   ]
  },
  {
   "cell_type": "markdown",
   "metadata": {},
   "source": [
    "i chose model according to accuracy, number of trainable parameters and image size input"
   ]
  },
  {
   "cell_type": "code",
   "execution_count": 67,
   "metadata": {},
   "outputs": [
    {
     "data": {
      "application/vnd.jupyter.widget-view+json": {
       "model_id": "9c2a49213f614212a3b53669dccc3bcd",
       "version_major": 2,
       "version_minor": 0
      },
      "text/plain": [
       "model.safetensors:   0%|          | 0.00/46.8M [00:00<?, ?B/s]"
      ]
     },
     "metadata": {},
     "output_type": "display_data"
    },
    {
     "name": "stderr",
     "output_type": "stream",
     "text": [
      "c:\\Users\\gcusumano\\ProfAI\\GreenTech-AI\\.venv\\Lib\\site-packages\\huggingface_hub\\file_download.py:139: UserWarning:\n",
      "\n",
      "`huggingface_hub` cache-system uses symlinks by default to efficiently store duplicated files but your machine does not support them in C:\\Users\\gcusumano\\.cache\\huggingface\\hub\\models--timm--resnet18.a1_in1k. Caching files will still work but in a degraded version that might require more space on your disk. This warning can be disabled by setting the `HF_HUB_DISABLE_SYMLINKS_WARNING` environment variable. For more details, see https://huggingface.co/docs/huggingface_hub/how-to-cache#limitations.\n",
      "To support symlinks on Windows, you either need to activate Developer Mode or to run Python as an administrator. In order to activate developer mode, see this article: https://docs.microsoft.com/en-us/windows/apps/get-started/enable-your-device-for-development\n",
      "\n"
     ]
    },
    {
     "data": {
      "text/plain": [
       "==========================================================================================\n",
       "Layer (type:depth-idx)                   Output Shape              Param #\n",
       "==========================================================================================\n",
       "ResNet                                   [1, 2]                    --\n",
       "├─Conv2d: 1-1                            [1, 64, 112, 112]         9,408\n",
       "├─BatchNorm2d: 1-2                       [1, 64, 112, 112]         128\n",
       "├─ReLU: 1-3                              [1, 64, 112, 112]         --\n",
       "├─MaxPool2d: 1-4                         [1, 64, 56, 56]           --\n",
       "├─Sequential: 1-5                        [1, 64, 56, 56]           --\n",
       "│    └─BasicBlock: 2-1                   [1, 64, 56, 56]           --\n",
       "│    │    └─Conv2d: 3-1                  [1, 64, 56, 56]           36,864\n",
       "│    │    └─BatchNorm2d: 3-2             [1, 64, 56, 56]           128\n",
       "│    │    └─Identity: 3-3                [1, 64, 56, 56]           --\n",
       "│    │    └─ReLU: 3-4                    [1, 64, 56, 56]           --\n",
       "│    │    └─Identity: 3-5                [1, 64, 56, 56]           --\n",
       "│    │    └─Conv2d: 3-6                  [1, 64, 56, 56]           36,864\n",
       "│    │    └─BatchNorm2d: 3-7             [1, 64, 56, 56]           128\n",
       "│    │    └─ReLU: 3-8                    [1, 64, 56, 56]           --\n",
       "│    └─BasicBlock: 2-2                   [1, 64, 56, 56]           --\n",
       "│    │    └─Conv2d: 3-9                  [1, 64, 56, 56]           36,864\n",
       "│    │    └─BatchNorm2d: 3-10            [1, 64, 56, 56]           128\n",
       "│    │    └─Identity: 3-11               [1, 64, 56, 56]           --\n",
       "│    │    └─ReLU: 3-12                   [1, 64, 56, 56]           --\n",
       "│    │    └─Identity: 3-13               [1, 64, 56, 56]           --\n",
       "│    │    └─Conv2d: 3-14                 [1, 64, 56, 56]           36,864\n",
       "│    │    └─BatchNorm2d: 3-15            [1, 64, 56, 56]           128\n",
       "│    │    └─ReLU: 3-16                   [1, 64, 56, 56]           --\n",
       "├─Sequential: 1-6                        [1, 128, 28, 28]          --\n",
       "│    └─BasicBlock: 2-3                   [1, 128, 28, 28]          --\n",
       "│    │    └─Conv2d: 3-17                 [1, 128, 28, 28]          73,728\n",
       "│    │    └─BatchNorm2d: 3-18            [1, 128, 28, 28]          256\n",
       "│    │    └─Identity: 3-19               [1, 128, 28, 28]          --\n",
       "│    │    └─ReLU: 3-20                   [1, 128, 28, 28]          --\n",
       "│    │    └─Identity: 3-21               [1, 128, 28, 28]          --\n",
       "│    │    └─Conv2d: 3-22                 [1, 128, 28, 28]          147,456\n",
       "│    │    └─BatchNorm2d: 3-23            [1, 128, 28, 28]          256\n",
       "│    │    └─Sequential: 3-24             [1, 128, 28, 28]          8,448\n",
       "│    │    └─ReLU: 3-25                   [1, 128, 28, 28]          --\n",
       "│    └─BasicBlock: 2-4                   [1, 128, 28, 28]          --\n",
       "│    │    └─Conv2d: 3-26                 [1, 128, 28, 28]          147,456\n",
       "│    │    └─BatchNorm2d: 3-27            [1, 128, 28, 28]          256\n",
       "│    │    └─Identity: 3-28               [1, 128, 28, 28]          --\n",
       "│    │    └─ReLU: 3-29                   [1, 128, 28, 28]          --\n",
       "│    │    └─Identity: 3-30               [1, 128, 28, 28]          --\n",
       "│    │    └─Conv2d: 3-31                 [1, 128, 28, 28]          147,456\n",
       "│    │    └─BatchNorm2d: 3-32            [1, 128, 28, 28]          256\n",
       "│    │    └─ReLU: 3-33                   [1, 128, 28, 28]          --\n",
       "├─Sequential: 1-7                        [1, 256, 14, 14]          --\n",
       "│    └─BasicBlock: 2-5                   [1, 256, 14, 14]          --\n",
       "│    │    └─Conv2d: 3-34                 [1, 256, 14, 14]          294,912\n",
       "│    │    └─BatchNorm2d: 3-35            [1, 256, 14, 14]          512\n",
       "│    │    └─Identity: 3-36               [1, 256, 14, 14]          --\n",
       "│    │    └─ReLU: 3-37                   [1, 256, 14, 14]          --\n",
       "│    │    └─Identity: 3-38               [1, 256, 14, 14]          --\n",
       "│    │    └─Conv2d: 3-39                 [1, 256, 14, 14]          589,824\n",
       "│    │    └─BatchNorm2d: 3-40            [1, 256, 14, 14]          512\n",
       "│    │    └─Sequential: 3-41             [1, 256, 14, 14]          33,280\n",
       "│    │    └─ReLU: 3-42                   [1, 256, 14, 14]          --\n",
       "│    └─BasicBlock: 2-6                   [1, 256, 14, 14]          --\n",
       "│    │    └─Conv2d: 3-43                 [1, 256, 14, 14]          589,824\n",
       "│    │    └─BatchNorm2d: 3-44            [1, 256, 14, 14]          512\n",
       "│    │    └─Identity: 3-45               [1, 256, 14, 14]          --\n",
       "│    │    └─ReLU: 3-46                   [1, 256, 14, 14]          --\n",
       "│    │    └─Identity: 3-47               [1, 256, 14, 14]          --\n",
       "│    │    └─Conv2d: 3-48                 [1, 256, 14, 14]          589,824\n",
       "│    │    └─BatchNorm2d: 3-49            [1, 256, 14, 14]          512\n",
       "│    │    └─ReLU: 3-50                   [1, 256, 14, 14]          --\n",
       "├─Sequential: 1-8                        [1, 512, 7, 7]            --\n",
       "│    └─BasicBlock: 2-7                   [1, 512, 7, 7]            --\n",
       "│    │    └─Conv2d: 3-51                 [1, 512, 7, 7]            1,179,648\n",
       "│    │    └─BatchNorm2d: 3-52            [1, 512, 7, 7]            1,024\n",
       "│    │    └─Identity: 3-53               [1, 512, 7, 7]            --\n",
       "│    │    └─ReLU: 3-54                   [1, 512, 7, 7]            --\n",
       "│    │    └─Identity: 3-55               [1, 512, 7, 7]            --\n",
       "│    │    └─Conv2d: 3-56                 [1, 512, 7, 7]            2,359,296\n",
       "│    │    └─BatchNorm2d: 3-57            [1, 512, 7, 7]            1,024\n",
       "│    │    └─Sequential: 3-58             [1, 512, 7, 7]            132,096\n",
       "│    │    └─ReLU: 3-59                   [1, 512, 7, 7]            --\n",
       "│    └─BasicBlock: 2-8                   [1, 512, 7, 7]            --\n",
       "│    │    └─Conv2d: 3-60                 [1, 512, 7, 7]            2,359,296\n",
       "│    │    └─BatchNorm2d: 3-61            [1, 512, 7, 7]            1,024\n",
       "│    │    └─Identity: 3-62               [1, 512, 7, 7]            --\n",
       "│    │    └─ReLU: 3-63                   [1, 512, 7, 7]            --\n",
       "│    │    └─Identity: 3-64               [1, 512, 7, 7]            --\n",
       "│    │    └─Conv2d: 3-65                 [1, 512, 7, 7]            2,359,296\n",
       "│    │    └─BatchNorm2d: 3-66            [1, 512, 7, 7]            1,024\n",
       "│    │    └─ReLU: 3-67                   [1, 512, 7, 7]            --\n",
       "├─SelectAdaptivePool2d: 1-9              [1, 512]                  --\n",
       "│    └─AdaptiveAvgPool2d: 2-9            [1, 512, 1, 1]            --\n",
       "│    └─Flatten: 2-10                     [1, 512]                  --\n",
       "├─Linear: 1-10                           [1, 2]                    1,026\n",
       "==========================================================================================\n",
       "Total params: 11,177,538\n",
       "Trainable params: 11,177,538\n",
       "Non-trainable params: 0\n",
       "Total mult-adds (Units.GIGABYTES): 1.81\n",
       "==========================================================================================\n",
       "Input size (MB): 0.60\n",
       "Forward/backward pass size (MB): 39.74\n",
       "Params size (MB): 44.71\n",
       "Estimated Total Size (MB): 85.05\n",
       "=========================================================================================="
      ]
     },
     "execution_count": 67,
     "metadata": {},
     "output_type": "execute_result"
    }
   ],
   "source": [
    "import timm\n",
    "device=\"cuda\" if torch.cuda.is_available() else \"cpu\"\n",
    "model = timm.create_model('resnet18.a1_in1k',pretrained=True, num_classes=2).to(device)\n",
    "summary(model, input_size=(1, 3, 224, 224), device=device)"
   ]
  },
  {
   "cell_type": "markdown",
   "metadata": {
    "id": "ey1811fTw0cb"
   },
   "source": [
    "## Training"
   ]
  },
  {
   "cell_type": "markdown",
   "metadata": {
    "id": "Kr-uwdIUw0cd"
   },
   "source": [
    "### set train test"
   ]
  },
  {
   "cell_type": "code",
   "execution_count": 75,
   "metadata": {
    "id": "aZR9ri3mw0cd"
   },
   "outputs": [],
   "source": [
    "def train(net, dataloader, criterion, optimizer,device):\n",
    "    \"\"\" trains an epoch and returns metrics\"\"\"\n",
    "    net.train()\n",
    "    n_batches = len(dataloader)\n",
    "    total_loss = 0\n",
    "    total_f1 = 0\n",
    "    for inputs, targets in dataloader:\n",
    "        inputs = inputs.to(device)\n",
    "        targets = targets.to(device)\n",
    "\n",
    "        output = net(inputs)\n",
    "\n",
    "        net.zero_grad()\n",
    "\n",
    "        loss = criterion(output, targets)\n",
    "\n",
    "        loss.backward()\n",
    "        optimizer.step()\n",
    "\n",
    "        _, preds = torch.max(output.data, 1)\n",
    "        f1 = get_f1(preds, targets)\n",
    "\n",
    "        total_loss += loss.item()\n",
    "        total_f1 += f1\n",
    "\n",
    "    mean_loss = total_loss / n_batches\n",
    "    mean_f1 = total_f1 / n_batches\n",
    "    return mean_loss, mean_f1\n",
    "\n",
    "def test(net, test_loader, criterion,device):\n",
    "\n",
    "    net.eval()\n",
    "    test_loss = 0\n",
    "    test_f1 = 0\n",
    "    n_batches = len(test_loader)\n",
    "\n",
    "    with torch.no_grad():\n",
    "        for batch_idx, (data, target) in enumerate(test_loader):\n",
    "            data = data.to(device)\n",
    "            target = target.to(device)\n",
    "            \n",
    "            output = net(data)\n",
    "            test_loss += criterion(output, target).item()\n",
    "\n",
    "            _, preds = torch.max(output.data, 1)\n",
    "            batch_f1 = get_f1(preds, target)\n",
    "            test_f1 += batch_f1\n",
    "\n",
    "    test_loss /= n_batches\n",
    "    test_f1 /= n_batches\n",
    "\n",
    "    print(f\"\\nFinal validation metrics:\")\n",
    "    print(f\"Loss: {test_loss:.4f}\")\n",
    "    print(f\"F1_score: {test_f1:.4f}\")\n",
    "\n",
    "    return test_loss, test_f1\n",
    "\n",
    "def get_predictions(model_output):\n",
    "    val, idx = torch.max(model_output, dim=1)\n",
    "    return idx\n",
    "\n",
    "def get_f1(preds: torch.Tensor, targets: torch.Tensor, threshold: float = 0.5) -> float:\n",
    "    \"\"\" returns mean f1_scores ignoring nan or non-involved classes\"\"\"\n",
    "    device = targets.device\n",
    "    preds = preds.to(device)\n",
    "\n",
    "    preds = manual_one_hot(preds,2)\n",
    "    targets = manual_one_hot(targets,2)\n",
    "    f1s = []\n",
    "    num_classes = preds.shape[1]\n",
    "    for class_idx in range(num_classes):\n",
    "\n",
    "        class_preds = preds[:, class_idx]\n",
    "        class_targets = targets[:, class_idx]\n",
    "\n",
    "        true_positives = (class_preds * class_targets).sum()\n",
    "        false_positives = (class_preds * (1 - class_targets)).sum()\n",
    "        false_negatives = ((1 - class_preds) * class_targets).sum()\n",
    "        total_predicted_p = true_positives+false_positives\n",
    "        total_predicted_a = true_positives+false_negatives\n",
    "        \n",
    "        if (total_predicted_a > 0) & (total_predicted_p > 0):\n",
    "            precision = true_positives / total_predicted_p\n",
    "            accuracy = true_positives/total_predicted_a\n",
    "            class_f1 = 2*accuracy*precision/(precision+accuracy)\n",
    "        else:\n",
    "            class_f1 = torch.nan\n",
    "        f1s.append(class_f1)\n",
    "        \n",
    "    f1_tensor = torch.tensor(f1s)\n",
    "    mean_f1 = f1_tensor.nanmean().item()\n",
    "\n",
    "    return mean_f1\n",
    "\n",
    "\n",
    "def adjust_learning_rate(lr, decay, optimizer, cur_epoch, n_epochs):\n",
    "    \"\"\"Sets the learning rate to the initially\n",
    "        configured `lr` decayed by `decay` every `n_epochs`\"\"\"\n",
    "    new_lr = lr * (decay ** (cur_epoch // n_epochs))\n",
    "    for param_group in optimizer.param_groups:\n",
    "        param_group['lr'] = new_lr\n",
    "\n",
    "def weights_init(m):\n",
    "    if isinstance(m, nn.Conv2d):\n",
    "        init.kaiming_uniform(m.weight)\n",
    "        m.bias.data.zero_()\n",
    "\n",
    "def save_weights(model, weights_dir, epoch):\n",
    "    weights_fname = 'weights-%d.pth' % (epoch)\n",
    "    weights_fpath = os.path.join(weights_dir, weights_fname)\n",
    "    torch.save({'state_dict': model.state_dict()}, weights_fpath)\n",
    "\n",
    "def load_weights(model, fpath):\n",
    "    state = torch.load(fpath)\n",
    "    model.load_state_dict(state['state_dict'])\n",
    "\n",
    "def manual_one_hot(tensor, num_classes=None):\n",
    "    tensor = tensor.to(dtype=torch.long)\n",
    "    \n",
    "    if num_classes is None:\n",
    "        num_classes = tensor.max() + 1\n",
    "\n",
    "    one_hot = torch.zeros((tensor.size(0), num_classes), device=tensor.device)\n",
    "    one_hot.scatter_(1, tensor.unsqueeze(1), 1)\n",
    "    \n",
    "    return one_hot"
   ]
  },
  {
   "cell_type": "markdown",
   "metadata": {
    "id": "2w2K9EA0w0cd"
   },
   "source": [
    "### new experiment"
   ]
  },
  {
   "cell_type": "code",
   "execution_count": 76,
   "metadata": {
    "id": "CLuBLnzGw0cd"
   },
   "outputs": [
    {
     "data": {
      "image/png": "[encoded data removed]",
      "text/plain": [
       "<Figure size 1200x800 with 2 Axes>"
      ]
     },
     "metadata": {},
     "output_type": "display_data"
    },
    {
     "data": {
      "image/png": "[encoded data removed]",
      "text/plain": [
       "<Figure size 1200x800 with 2 Axes>"
      ]
     },
     "metadata": {},
     "output_type": "display_data"
    },
    {
     "data": {
      "text/plain": [
       "<Figure size 640x480 with 0 Axes>"
      ]
     },
     "metadata": {},
     "output_type": "display_data"
    },
    {
     "data": {
      "image/png": "[encoded data removed]",
      "text/plain": [
       "<Figure size 1200x800 with 2 Axes>"
      ]
     },
     "metadata": {},
     "output_type": "display_data"
    }
   ],
   "source": [
    "N_EPOCHS = 3\n",
    "MAX_PATIENCE = 2\n",
    "LEARNING_RATE = 1e-3\n",
    "LR_DECAY = 0.99\n",
    "DECAY_LR_EVERY_N_EPOCHS = 2\n",
    "EXPERIMENT_NAME = 'exp1'\n",
    "\n",
    "criterion = torch.nn.CrossEntropyLoss().to(device)\n",
    "logger = get_logger(ch_log_level=logging.INFO, fh_log_level=logging.INFO)\n",
    "optimizer = optim.Adam(model.parameters(), lr=LEARNING_RATE)\n",
    "\n",
    "print('  + Number of params: {}'.format(sum([p.data.nelement() for p in model.parameters()])))\n",
    "exp = Experiment(EXPERIMENT_NAME, \"exps\", logger)\n",
    "shutil.rmtree(\"exps/exp1\")\n",
    "exp.init()\n",
    "monitor = TrainingMonitor()\n",
    "\n",
    "for epoch in range(exp.epoch, exp.epoch+N_EPOCHS):\n",
    "    since = time.time()\n",
    "\n",
    "    trn_loss, trn_f1 = train(model, trainloader, criterion, optimizer,device)\n",
    "    logger.info('Epoch {:d}: Train - Loss: {:.4f}\\tF1_score: {:.4f}'.format(\n",
    "        epoch, trn_loss, trn_f1))\n",
    "    time_elapsed = time.time() - since\n",
    "    logger.info('Train Time {:.0f}m {:.0f}s'.format(\n",
    "        time_elapsed // 60, time_elapsed % 60))\n",
    "\n",
    "    val_loss, val_f1 = test(model, valloader, criterion,device)\n",
    "    logger.info('Val - Loss: {:.4f}, F1_score: {:.4f}'.format(\n",
    "        val_loss, val_f1))\n",
    "    time_elapsed = time.time() - since\n",
    "    logger.info('Total Time {:.0f}m {:.0f}s\\n'.format(\n",
    "        time_elapsed // 60, time_elapsed % 60))\n",
    "\n",
    "    monitor.update(\n",
    "        epoch=epoch,\n",
    "        train_loss=trn_loss,\n",
    "        val_loss=val_loss,\n",
    "        train_f1=trn_f1,\n",
    "        val_f1=val_f1\n",
    "    )\n",
    "\n",
    "    exp.save_history('train', trn_loss, trn_f1)\n",
    "    exp.save_history('val', val_loss, val_f1)\n",
    "\n",
    "    exp.save_weights(model, trn_loss, val_loss, trn_f1, val_f1)\n",
    "    exp.save_optimizer(optimizer, val_loss)\n",
    "\n",
    "    if (epoch - exp.best_val_loss_epoch) > MAX_PATIENCE:\n",
    "        logger.info(f\"Early Stopping at epoch {epoch} since no better loss found since epoch {exp.best_val_loss_epoch}\")\n",
    "        break\n",
    "\n",
    "    adjust_learning_rate(LEARNING_RATE, LR_DECAY, optimizer,\n",
    "                         epoch, DECAY_LR_EVERY_N_EPOCHS)\n",
    "\n",
    "    exp.epoch += 1\n",
    "\n",
    "try:\n",
    "    monitor.save(os.path.join(exp.history_dir, 'final_training_progress.png'))\n",
    "    monitor.stop()\n",
    "except:\n",
    "    pass"
   ]
  },
  {
   "cell_type": "code",
   "execution_count": null,
   "metadata": {
    "id": "TwJQ71Muw0cd"
   },
   "outputs": [],
   "source": [
    "### run if already have exp and avoid training\n",
    "import zipfile\n",
    "with zipfile.ZipFile(\"exp1.zip\", 'r') as zip_ref:\n",
    "    zip_ref.extractall(\".\")"
   ]
  },
  {
   "cell_type": "markdown",
   "metadata": {
    "id": "2PjcYODjw0cd"
   },
   "source": [
    "### plot training history"
   ]
  },
  {
   "cell_type": "code",
   "execution_count": 15,
   "metadata": {
    "colab": {
     "base_uri": "https://localhost:8080/",
     "height": 817
    },
    "id": "5L4hK5FOw0cd",
    "outputId": "6c8fc30c-ba14-48f5-a0fe-80fea25501bd"
   },
   "outputs": [
    {
     "data": {
      "application/vnd.plotly.v1+json": {
       "config": {
        "plotlyServerURL": "https://plot.ly"
       },
       "data": [
        {
         "line": {
          "color": "blue"
         },
         "mode": "lines+markers",
         "name": "Train Loss",
         "type": "scatter",
         "x": [
          1,
          2,
          3
         ],
         "xaxis": "x",
         "y": [
          0.5623110548869984,
          0.3708118876895389,
          0.3068569805976507
         ],
         "yaxis": "y"
        },
        {
         "line": {
          "color": "blue"
         },
         "mode": "lines+markers",
         "name": "Train Precision",
         "type": "scatter",
         "x": [
          1,
          2,
          3
         ],
         "xaxis": "x2",
         "y": [
          0.727675582106049,
          0.8690345496744722,
          0.8905269777452623
         ],
         "yaxis": "y2"
        },
        {
         "line": {
          "color": "red"
         },
         "mode": "lines+markers",
         "name": "Val Loss",
         "type": "scatter",
         "x": [
          1,
          2,
          3
         ],
         "xaxis": "x",
         "y": [
          0.4084489995783025,
          0.319132998585701,
          0.2783212756568735
         ],
         "yaxis": "y"
        },
        {
         "line": {
          "color": "red"
         },
         "mode": "lines+markers",
         "name": "Val Precision",
         "type": "scatter",
         "x": [
          1,
          2,
          3
         ],
         "xaxis": "x2",
         "y": [
          0.8457044471393932,
          0.8812069296836853,
          0.9027298309586264
         ],
         "yaxis": "y2"
        }
       ],
       "layout": {
        "annotations": [
         {
          "font": {
           "size": 16
          },
          "showarrow": false,
          "text": "Loss Over Time",
          "x": 0.5,
          "xanchor": "center",
          "xref": "paper",
          "y": 1,
          "yanchor": "bottom",
          "yref": "paper"
         },
         {
          "font": {
           "size": 16
          },
          "showarrow": false,
          "text": "Precision Over Time",
          "x": 0.5,
          "xanchor": "center",
          "xref": "paper",
          "y": 0.425,
          "yanchor": "bottom",
          "yref": "paper"
         }
        ],
        "height": 800,
        "paper_bgcolor": "white",
        "plot_bgcolor": "white",
        "showlegend": true,
        "template": {
         "data": {
          "bar": [
           {
            "error_x": {
             "color": "#2a3f5f"
            },
            "error_y": {
             "color": "#2a3f5f"
            },
            "marker": {
             "line": {
              "color": "#E5ECF6",
              "width": 0.5
             },
             "pattern": {
              "fillmode": "overlay",
              "size": 10,
              "solidity": 0.2
             }
            },
            "type": "bar"
           }
          ],
          "barpolar": [
           {
            "marker": {
             "line": {
              "color": "#E5ECF6",
              "width": 0.5
             },
             "pattern": {
              "fillmode": "overlay",
              "size": 10,
              "solidity": 0.2
             }
            },
            "type": "barpolar"
           }
          ],
          "carpet": [
           {
            "aaxis": {
             "endlinecolor": "#2a3f5f",
             "gridcolor": "white",
             "linecolor": "white",
             "minorgridcolor": "white",
             "startlinecolor": "#2a3f5f"
            },
            "baxis": {
             "endlinecolor": "#2a3f5f",
             "gridcolor": "white",
             "linecolor": "white",
             "minorgridcolor": "white",
             "startlinecolor": "#2a3f5f"
            },
            "type": "carpet"
           }
          ],
          "choropleth": [
           {
            "colorbar": {
             "outlinewidth": 0,
             "ticks": ""
            },
            "type": "choropleth"
           }
          ],
          "contour": [
           {
            "colorbar": {
             "outlinewidth": 0,
             "ticks": ""
            },
            "colorscale": [
             [
              0,
              "#0d0887"
             ],
             [
              0.1111111111111111,
              "#46039f"
             ],
             [
              0.2222222222222222,
              "#7201a8"
             ],
             [
              0.3333333333333333,
              "#9c179e"
             ],
             [
              0.4444444444444444,
              "#bd3786"
             ],
             [
              0.5555555555555556,
              "#d8576b"
             ],
             [
              0.6666666666666666,
              "#ed7953"
             ],
             [
              0.7777777777777778,
              "#fb9f3a"
             ],
             [
              0.8888888888888888,
              "#fdca26"
             ],
             [
              1,
              "#f0f921"
             ]
            ],
            "type": "contour"
           }
          ],
          "contourcarpet": [
           {
            "colorbar": {
             "outlinewidth": 0,
             "ticks": ""
            },
            "type": "contourcarpet"
           }
          ],
          "heatmap": [
           {
            "colorbar": {
             "outlinewidth": 0,
             "ticks": ""
            },
            "colorscale": [
             [
              0,
              "#0d0887"
             ],
             [
              0.1111111111111111,
              "#46039f"
             ],
             [
              0.2222222222222222,
              "#7201a8"
             ],
             [
              0.3333333333333333,
              "#9c179e"
             ],
             [
              0.4444444444444444,
              "#bd3786"
             ],
             [
              0.5555555555555556,
              "#d8576b"
             ],
             [
              0.6666666666666666,
              "#ed7953"
             ],
             [
              0.7777777777777778,
              "#fb9f3a"
             ],
             [
              0.8888888888888888,
              "#fdca26"
             ],
             [
              1,
              "#f0f921"
             ]
            ],
            "type": "heatmap"
           }
          ],
          "heatmapgl": [
           {
            "colorbar": {
             "outlinewidth": 0,
             "ticks": ""
            },
            "colorscale": [
             [
              0,
              "#0d0887"
             ],
             [
              0.1111111111111111,
              "#46039f"
             ],
             [
              0.2222222222222222,
              "#7201a8"
             ],
             [
              0.3333333333333333,
              "#9c179e"
             ],
             [
              0.4444444444444444,
              "#bd3786"
             ],
             [
              0.5555555555555556,
              "#d8576b"
             ],
             [
              0.6666666666666666,
              "#ed7953"
             ],
             [
              0.7777777777777778,
              "#fb9f3a"
             ],
             [
              0.8888888888888888,
              "#fdca26"
             ],
             [
              1,
              "#f0f921"
             ]
            ],
            "type": "heatmapgl"
           }
          ],
          "histogram": [
           {
            "marker": {
             "pattern": {
              "fillmode": "overlay",
              "size": 10,
              "solidity": 0.2
             }
            },
            "type": "histogram"
           }
          ],
          "histogram2d": [
           {
            "colorbar": {
             "outlinewidth": 0,
             "ticks": ""
            },
            "colorscale": [
             [
              0,
              "#0d0887"
             ],
             [
              0.1111111111111111,
              "#46039f"
             ],
             [
              0.2222222222222222,
              "#7201a8"
             ],
             [
              0.3333333333333333,
              "#9c179e"
             ],
             [
              0.4444444444444444,
              "#bd3786"
             ],
             [
              0.5555555555555556,
              "#d8576b"
             ],
             [
              0.6666666666666666,
              "#ed7953"
             ],
             [
              0.7777777777777778,
              "#fb9f3a"
             ],
             [
              0.8888888888888888,
              "#fdca26"
             ],
             [
              1,
              "#f0f921"
             ]
            ],
            "type": "histogram2d"
           }
          ],
          "histogram2dcontour": [
           {
            "colorbar": {
             "outlinewidth": 0,
             "ticks": ""
            },
            "colorscale": [
             [
              0,
              "#0d0887"
             ],
             [
              0.1111111111111111,
              "#46039f"
             ],
             [
              0.2222222222222222,
              "#7201a8"
             ],
             [
              0.3333333333333333,
              "#9c179e"
             ],
             [
              0.4444444444444444,
              "#bd3786"
             ],
             [
              0.5555555555555556,
              "#d8576b"
             ],
             [
              0.6666666666666666,
              "#ed7953"
             ],
             [
              0.7777777777777778,
              "#fb9f3a"
             ],
             [
              0.8888888888888888,
              "#fdca26"
             ],
             [
              1,
              "#f0f921"
             ]
            ],
            "type": "histogram2dcontour"
           }
          ],
          "mesh3d": [
           {
            "colorbar": {
             "outlinewidth": 0,
             "ticks": ""
            },
            "type": "mesh3d"
           }
          ],
          "parcoords": [
           {
            "line": {
             "colorbar": {
              "outlinewidth": 0,
              "ticks": ""
             }
            },
            "type": "parcoords"
           }
          ],
          "pie": [
           {
            "automargin": true,
            "type": "pie"
           }
          ],
          "scatter": [
           {
            "fillpattern": {
             "fillmode": "overlay",
             "size": 10,
             "solidity": 0.2
            },
            "type": "scatter"
           }
          ],
          "scatter3d": [
           {
            "line": {
             "colorbar": {
              "outlinewidth": 0,
              "ticks": ""
             }
            },
            "marker": {
             "colorbar": {
              "outlinewidth": 0,
              "ticks": ""
             }
            },
            "type": "scatter3d"
           }
          ],
          "scattercarpet": [
           {
            "marker": {
             "colorbar": {
              "outlinewidth": 0,
              "ticks": ""
             }
            },
            "type": "scattercarpet"
           }
          ],
          "scattergeo": [
           {
            "marker": {
             "colorbar": {
              "outlinewidth": 0,
              "ticks": ""
             }
            },
            "type": "scattergeo"
           }
          ],
          "scattergl": [
           {
            "marker": {
             "colorbar": {
              "outlinewidth": 0,
              "ticks": ""
             }
            },
            "type": "scattergl"
           }
          ],
          "scattermapbox": [
           {
            "marker": {
             "colorbar": {
              "outlinewidth": 0,
              "ticks": ""
             }
            },
            "type": "scattermapbox"
           }
          ],
          "scatterpolar": [
           {
            "marker": {
             "colorbar": {
              "outlinewidth": 0,
              "ticks": ""
             }
            },
            "type": "scatterpolar"
           }
          ],
          "scatterpolargl": [
           {
            "marker": {
             "colorbar": {
              "outlinewidth": 0,
              "ticks": ""
             }
            },
            "type": "scatterpolargl"
           }
          ],
          "scatterternary": [
           {
            "marker": {
             "colorbar": {
              "outlinewidth": 0,
              "ticks": ""
             }
            },
            "type": "scatterternary"
           }
          ],
          "surface": [
           {
            "colorbar": {
             "outlinewidth": 0,
             "ticks": ""
            },
            "colorscale": [
             [
              0,
              "#0d0887"
             ],
             [
              0.1111111111111111,
              "#46039f"
             ],
             [
              0.2222222222222222,
              "#7201a8"
             ],
             [
              0.3333333333333333,
              "#9c179e"
             ],
             [
              0.4444444444444444,
              "#bd3786"
             ],
             [
              0.5555555555555556,
              "#d8576b"
             ],
             [
              0.6666666666666666,
              "#ed7953"
             ],
             [
              0.7777777777777778,
              "#fb9f3a"
             ],
             [
              0.8888888888888888,
              "#fdca26"
             ],
             [
              1,
              "#f0f921"
             ]
            ],
            "type": "surface"
           }
          ],
          "table": [
           {
            "cells": {
             "fill": {
              "color": "#EBF0F8"
             },
             "line": {
              "color": "white"
             }
            },
            "header": {
             "fill": {
              "color": "#C8D4E3"
             },
             "line": {
              "color": "white"
             }
            },
            "type": "table"
           }
          ]
         },
         "layout": {
          "annotationdefaults": {
           "arrowcolor": "#2a3f5f",
           "arrowhead": 0,
           "arrowwidth": 1
          },
          "autotypenumbers": "strict",
          "coloraxis": {
           "colorbar": {
            "outlinewidth": 0,
            "ticks": ""
           }
          },
          "colorscale": {
           "diverging": [
            [
             0,
             "#8e0152"
            ],
            [
             0.1,
             "#c51b7d"
            ],
            [
             0.2,
             "#de77ae"
            ],
            [
             0.3,
             "#f1b6da"
            ],
            [
             0.4,
             "#fde0ef"
            ],
            [
             0.5,
             "#f7f7f7"
            ],
            [
             0.6,
             "#e6f5d0"
            ],
            [
             0.7,
             "#b8e186"
            ],
            [
             0.8,
             "#7fbc41"
            ],
            [
             0.9,
             "#4d9221"
            ],
            [
             1,
             "#276419"
            ]
           ],
           "sequential": [
            [
             0,
             "#0d0887"
            ],
            [
             0.1111111111111111,
             "#46039f"
            ],
            [
             0.2222222222222222,
             "#7201a8"
            ],
            [
             0.3333333333333333,
             "#9c179e"
            ],
            [
             0.4444444444444444,
             "#bd3786"
            ],
            [
             0.5555555555555556,
             "#d8576b"
            ],
            [
             0.6666666666666666,
             "#ed7953"
            ],
            [
             0.7777777777777778,
             "#fb9f3a"
            ],
            [
             0.8888888888888888,
             "#fdca26"
            ],
            [
             1,
             "#f0f921"
            ]
           ],
           "sequentialminus": [
            [
             0,
             "#0d0887"
            ],
            [
             0.1111111111111111,
             "#46039f"
            ],
            [
             0.2222222222222222,
             "#7201a8"
            ],
            [
             0.3333333333333333,
             "#9c179e"
            ],
            [
             0.4444444444444444,
             "#bd3786"
            ],
            [
             0.5555555555555556,
             "#d8576b"
            ],
            [
             0.6666666666666666,
             "#ed7953"
            ],
            [
             0.7777777777777778,
             "#fb9f3a"
            ],
            [
             0.8888888888888888,
             "#fdca26"
            ],
            [
             1,
             "#f0f921"
            ]
           ]
          },
          "colorway": [
           "#636efa",
           "#EF553B",
           "#00cc96",
           "#ab63fa",
           "#FFA15A",
           "#19d3f3",
           "#FF6692",
           "#B6E880",
           "#FF97FF",
           "#FECB52"
          ],
          "font": {
           "color": "#2a3f5f"
          },
          "geo": {
           "bgcolor": "white",
           "lakecolor": "white",
           "landcolor": "#E5ECF6",
           "showlakes": true,
           "showland": true,
           "subunitcolor": "white"
          },
          "hoverlabel": {
           "align": "left"
          },
          "hovermode": "closest",
          "mapbox": {
           "style": "light"
          },
          "paper_bgcolor": "white",
          "plot_bgcolor": "#E5ECF6",
          "polar": {
           "angularaxis": {
            "gridcolor": "white",
            "linecolor": "white",
            "ticks": ""
           },
           "bgcolor": "#E5ECF6",
           "radialaxis": {
            "gridcolor": "white",
            "linecolor": "white",
            "ticks": ""
           }
          },
          "scene": {
           "xaxis": {
            "backgroundcolor": "#E5ECF6",
            "gridcolor": "white",
            "gridwidth": 2,
            "linecolor": "white",
            "showbackground": true,
            "ticks": "",
            "zerolinecolor": "white"
           },
           "yaxis": {
            "backgroundcolor": "#E5ECF6",
            "gridcolor": "white",
            "gridwidth": 2,
            "linecolor": "white",
            "showbackground": true,
            "ticks": "",
            "zerolinecolor": "white"
           },
           "zaxis": {
            "backgroundcolor": "#E5ECF6",
            "gridcolor": "white",
            "gridwidth": 2,
            "linecolor": "white",
            "showbackground": true,
            "ticks": "",
            "zerolinecolor": "white"
           }
          },
          "shapedefaults": {
           "line": {
            "color": "#2a3f5f"
           }
          },
          "ternary": {
           "aaxis": {
            "gridcolor": "white",
            "linecolor": "white",
            "ticks": ""
           },
           "baxis": {
            "gridcolor": "white",
            "linecolor": "white",
            "ticks": ""
           },
           "bgcolor": "#E5ECF6",
           "caxis": {
            "gridcolor": "white",
            "linecolor": "white",
            "ticks": ""
           }
          },
          "title": {
           "x": 0.05
          },
          "xaxis": {
           "automargin": true,
           "gridcolor": "white",
           "linecolor": "white",
           "ticks": "",
           "title": {
            "standoff": 15
           },
           "zerolinecolor": "white",
           "zerolinewidth": 2
          },
          "yaxis": {
           "automargin": true,
           "gridcolor": "white",
           "linecolor": "white",
           "ticks": "",
           "title": {
            "standoff": 15
           },
           "zerolinecolor": "white",
           "zerolinewidth": 2
          }
         }
        },
        "title": {
         "text": "Training Progress",
         "x": 0.5
        },
        "xaxis": {
         "anchor": "y",
         "domain": [
          0,
          1
         ],
         "gridcolor": "lightgrey",
         "griddash": "dot",
         "gridwidth": 0.2,
         "linecolor": "black",
         "linewidth": 1,
         "showgrid": true,
         "title": {
          "text": "Epoch"
         },
         "zeroline": false
        },
        "xaxis2": {
         "anchor": "y2",
         "domain": [
          0,
          1
         ],
         "gridcolor": "lightgrey",
         "griddash": "dot",
         "gridwidth": 0.2,
         "linecolor": "black",
         "linewidth": 1,
         "showgrid": true,
         "title": {
          "text": "Epoch"
         },
         "zeroline": false
        },
        "yaxis": {
         "anchor": "x",
         "domain": [
          0.575,
          1
         ],
         "gridcolor": "lightgrey",
         "griddash": "dot",
         "gridwidth": 0.2,
         "linecolor": "black",
         "linewidth": 1,
         "showgrid": true,
         "title": {
          "text": "Loss"
         },
         "type": "log",
         "zeroline": false
        },
        "yaxis2": {
         "anchor": "x2",
         "domain": [
          0,
          0.425
         ],
         "gridcolor": "lightgrey",
         "griddash": "dot",
         "gridwidth": 0.2,
         "linecolor": "black",
         "linewidth": 1,
         "showgrid": true,
         "title": {
          "text": "Precision"
         },
         "zeroline": false
        }
       }
      }
     },
     "metadata": {},
     "output_type": "display_data"
    }
   ],
   "source": [
    "fig = plot_training_history('exps/exp1')\n",
    "fig"
   ]
  },
  {
   "cell_type": "markdown",
   "metadata": {
    "id": "bLZilcssw0cd"
   },
   "source": [
    "## Final test"
   ]
  },
  {
   "cell_type": "code",
   "execution_count": null,
   "metadata": {
    "colab": {
     "base_uri": "https://localhost:8080/"
    },
    "id": "qwAFfaAmw0cd",
    "outputId": "92670c4f-0103-4cc5-b0cd-02c1a7620223"
   },
   "outputs": [
    {
     "name": "stderr",
     "output_type": "stream",
     "text": [
      "<ipython-input-10-c7cefe42d424>:154: FutureWarning:\n",
      "\n",
      "You are using `torch.load` with `weights_only=False` (the current default value), which uses the default pickle module implicitly. It is possible to construct malicious pickle data which will execute arbitrary code during unpickling (See https://github.com/pytorch/pytorch/blob/main/SECURITY.md#untrusted-models for more details). In a future release, the default value for `weights_only` will be flipped to `True`. This limits the functions that could be executed during unpickling. Arbitrary objects will no longer be allowed to be loaded via this mode unless they are explicitly allowlisted by the user via `torch.serialization.add_safe_globals`. We recommend you start setting `weights_only=True` for any use case where you don't have full control of the loaded file. Please open an issue on GitHub for any issues related to this experimental feature.\n",
      "\n",
      "<ipython-input-10-c7cefe42d424>:175: FutureWarning:\n",
      "\n",
      "You are using `torch.load` with `weights_only=False` (the current default value), which uses the default pickle module implicitly. It is possible to construct malicious pickle data which will execute arbitrary code during unpickling (See https://github.com/pytorch/pytorch/blob/main/SECURITY.md#untrusted-models for more details). In a future release, the default value for `weights_only` will be flipped to `True`. This limits the functions that could be executed during unpickling. Arbitrary objects will no longer be allowed to be loaded via this mode unless they are explicitly allowlisted by the user via `torch.serialization.add_safe_globals`. We recommend you start setting `weights_only=True` for any use case where you don't have full control of the loaded file. Please open an issue on GitHub for any issues related to this experimental feature.\n",
      "\n"
     ]
    }
   ],
   "source": [
    "experiment = Experiment(name=\"exp1\", root=\"exps\")\n",
    "\n",
    "# load model best hyperparams\n",
    "model, optimizer = experiment.resume(\n",
    "    model=model,  \n",
    "    optim=optimizer,  \n",
    "    weights_fpath=experiment.best_weights_path,  \n",
    "    optim_path=experiment.best_optimizer_path  \n",
    ")"
   ]
  },
  {
   "cell_type": "markdown",
   "metadata": {},
   "source": [
    "### set final test and confusion matrix"
   ]
  },
  {
   "cell_type": "code",
   "execution_count": null,
   "metadata": {
    "id": "dDzHlT9qw0cd"
   },
   "outputs": [],
   "source": [
    "def get_confusion_matrix(preds: torch.Tensor, targets: torch.Tensor) -> torch.Tensor:\n",
    "    \"\"\"\n",
    "    Calculate confusion matrix given predictions and targets.\n",
    "\n",
    "    Args:\n",
    "        preds: torch.Tensor - Model predictions (already processed with argmax if necessary)\n",
    "        targets: torch.Tensor - Ground truth targets\n",
    "\n",
    "    Returns:\n",
    "        confusion_matrix: torch.Tensor - Confusion matrix of shape (num_classes x num_classes)\n",
    "    \"\"\"\n",
    "    confusion_matrix = torch.zeros(14, 14)\n",
    "    for t, p in zip(targets.view(-1), preds.view(-1)):\n",
    "        confusion_matrix[t.long(), p.long()] += 1\n",
    "    return confusion_matrix\n",
    "\n",
    "def calculate_metrics(confusion_matrix: torch.Tensor) -> dict:\n",
    "    \"\"\"\n",
    "    Calculate various metrics from the confusion matrix using only PyTorch operations.\n",
    "\n",
    "    Args:\n",
    "        confusion_matrix: torch.Tensor - Confusion matrix of shape (num_classes x num_classes)\n",
    "\n",
    "    Returns:\n",
    "        dict: Dictionary containing various metrics\n",
    "    \"\"\"\n",
    "    # Per-class metrics\n",
    "    class_precision = confusion_matrix.diag() / confusion_matrix.sum(dim=1).clamp(min=1e-10)\n",
    "    class_recall = confusion_matrix.diag() / confusion_matrix.sum(dim=0).clamp(min=1e-10)\n",
    "\n",
    "    # Calculate F1 score\n",
    "    class_f1 = 2 * (class_precision * class_recall) / (class_precision + class_recall + 1e-10)\n",
    "\n",
    "    # Calculate macro averages\n",
    "    metrics = {\n",
    "        'macro_precision': float(torch.mean(class_precision)),\n",
    "        'macro_recall': float(torch.mean(class_recall)),\n",
    "        'macro_f1': float(torch.mean(class_f1)),\n",
    "        'accuracy': float(confusion_matrix.diag().sum() / confusion_matrix.sum())\n",
    "    }\n",
    "\n",
    "    return metrics\n",
    "\n",
    "def final_test(net, test_loader, criterion):\n",
    "    \"\"\"\n",
    "    Perform final evaluation of the model on test data.\n",
    "\n",
    "    Args:\n",
    "        net: torch.nn.Module - The neural network model\n",
    "        test_loader: torch.utils.data.DataLoader - Test data loader\n",
    "        criterion: torch.nn.Module - Loss function\n",
    "\n",
    "    Returns:\n",
    "        tuple: (confusion_matrix, metrics_dict)\n",
    "    \"\"\"\n",
    "    device = torch.device(\"cuda\" if torch.cuda.is_available() else \"cpu\")\n",
    "    net.eval()\n",
    "    test_loss = 0\n",
    "    n_batches = len(test_loader)\n",
    "\n",
    "    # Initialize tensors for all predictions and targets\n",
    "    all_preds = []\n",
    "    all_targets = []\n",
    "\n",
    "    with torch.no_grad():\n",
    "        for batch_idx, (data, target) in enumerate(test_loader):\n",
    "            data = data.to(device)\n",
    "            target = target.to(device)\n",
    "\n",
    "            output = net(data)\n",
    "            test_loss += criterion(output, target).item()\n",
    "\n",
    "            _, preds = torch.max(output.data, 1)\n",
    "\n",
    "            # Store predictions and targets\n",
    "            all_preds.append(preds.cpu())\n",
    "            all_targets.append(target.cpu())\n",
    "\n",
    "    # Concatenate all batches\n",
    "    all_preds = torch.cat(all_preds)\n",
    "    all_targets = torch.cat(all_targets)\n",
    "\n",
    "    # Calculate final metrics\n",
    "    test_loss /= n_batches\n",
    "    confusion_matrix = get_confusion_matrix(all_preds, all_targets)\n",
    "    metrics = calculate_metrics(confusion_matrix)\n",
    "\n",
    "    # Print results\n",
    "    print(f\"\\nFinal validation metrics:\")\n",
    "    print(f\"Loss: {test_loss:.4f}\")\n",
    "    print(\"\\nMetrics from confusion matrix:\")\n",
    "    for metric_name, value in metrics.items():\n",
    "        print(f\"{metric_name}: {value:.4f}\")\n",
    "\n",
    "    return confusion_matrix, metrics\n"
   ]
  },
  {
   "cell_type": "markdown",
   "metadata": {},
   "source": [
    "### visualize confusion matrix"
   ]
  },
  {
   "cell_type": "code",
   "execution_count": null,
   "metadata": {
    "colab": {
     "base_uri": "https://localhost:8080/",
     "height": 817
    },
    "id": "_LOfm46R1Xfe",
    "outputId": "3ae31433-60bb-4f7c-8b34-55476bf5b7e9"
   },
   "outputs": [
    {
     "data": {
      "text/html": [
       "<html>\n",
       "<head><meta charset=\"utf-8\" /></head>\n",
       "<body>\n",
       "    <div>            <script src=\"https://cdnjs.cloudflare.com/ajax/libs/mathjax/2.7.5/MathJax.js?config=TeX-AMS-MML_SVG\"></script><script type=\"text/javascript\">if (window.MathJax && window.MathJax.Hub && window.MathJax.Hub.Config) {window.MathJax.Hub.Config({SVG: {font: \"STIX-Web\"}});}</script>                <script type=\"text/javascript\">window.PlotlyConfig = {MathJaxConfig: 'local'};</script>\n",
       "        <script charset=\"utf-8\" src=\"https://cdn.plot.ly/plotly-2.35.2.min.js\"></script>                <div id=\"bda52074-3edf-4890-9c2c-48a3ea0c04e2\" class=\"plotly-graph-div\" style=\"height:800px; width:800px;\"></div>            <script type=\"text/javascript\">                                    window.PLOTLYENV=window.PLOTLYENV || {};                                    if (document.getElementById(\"bda52074-3edf-4890-9c2c-48a3ea0c04e2\")) {                    Plotly.newPlot(                        \"bda52074-3edf-4890-9c2c-48a3ea0c04e2\",                        [{\"colorscale\":[[0.0,\"rgb(247,251,255)\"],[0.125,\"rgb(222,235,247)\"],[0.25,\"rgb(198,219,239)\"],[0.375,\"rgb(158,202,225)\"],[0.5,\"rgb(107,174,214)\"],[0.625,\"rgb(66,146,198)\"],[0.75,\"rgb(33,113,181)\"],[0.875,\"rgb(8,81,156)\"],[1.0,\"rgb(8,48,107)\"]],\"hoverongaps\":false,\"hovertemplate\":\"Vero: %{y}\\u003cbr\\u003ePredetto: %{x}\\u003cbr\\u003eValore: %{z}\\u003cextra\\u003e\\u003c\\u002fextra\\u003e\",\"text\":[[174.0,5.0,1.0,3.0,4.0,2.0,5.0,3.0,1.0,0.0,0.0,1.0,1.0,0.0],[10.0,172.0,0.0,2.0,0.0,4.0,5.0,2.0,0.0,0.0,3.0,0.0,2.0,0.0],[1.0,1.0,188.0,0.0,4.0,0.0,0.0,2.0,2.0,0.0,0.0,1.0,0.0,1.0],[3.0,2.0,0.0,174.0,2.0,2.0,12.0,3.0,0.0,0.0,1.0,1.0,0.0,0.0],[6.0,1.0,5.0,8.0,145.0,6.0,13.0,10.0,3.0,1.0,1.0,0.0,1.0,0.0],[3.0,1.0,6.0,3.0,9.0,163.0,7.0,6.0,0.0,1.0,0.0,1.0,0.0,0.0],[13.0,6.0,4.0,5.0,12.0,6.0,131.0,15.0,1.0,1.0,2.0,2.0,1.0,1.0],[9.0,4.0,5.0,2.0,4.0,4.0,20.0,145.0,0.0,2.0,2.0,0.0,3.0,0.0],[1.0,2.0,3.0,3.0,1.0,0.0,0.0,0.0,148.0,14.0,3.0,9.0,12.0,4.0],[1.0,0.0,0.0,0.0,0.0,1.0,0.0,0.0,14.0,166.0,3.0,6.0,4.0,5.0],[0.0,3.0,0.0,0.0,0.0,0.0,0.0,0.0,8.0,0.0,164.0,2.0,18.0,5.0],[0.0,0.0,2.0,1.0,0.0,1.0,0.0,0.0,18.0,14.0,5.0,152.0,1.0,6.0],[4.0,0.0,0.0,0.0,0.0,1.0,0.0,2.0,14.0,2.0,12.0,3.0,156.0,6.0],[4.0,0.0,3.0,0.0,1.0,0.0,0.0,0.0,7.0,2.0,3.0,9.0,6.0,165.0]],\"textfont\":{\"size\":14},\"texttemplate\":\"%{z}\",\"x\":[\"Baked Potato\",\"Crispy Chicken\",\"Donut\",\"Fries\",\"Hot Dog\",\"Sandwich\",\"Taco\",\"Taquito\",\"apple_pie\",\"cheesecake\",\"chicken_curry\",\"ice_cream\",\"omelette\",\"sushi\"],\"y\":[\"Baked Potato\",\"Crispy Chicken\",\"Donut\",\"Fries\",\"Hot Dog\",\"Sandwich\",\"Taco\",\"Taquito\",\"apple_pie\",\"cheesecake\",\"chicken_curry\",\"ice_cream\",\"omelette\",\"sushi\"],\"z\":[[174.0,5.0,1.0,3.0,4.0,2.0,5.0,3.0,1.0,0.0,0.0,1.0,1.0,0.0],[10.0,172.0,0.0,2.0,0.0,4.0,5.0,2.0,0.0,0.0,3.0,0.0,2.0,0.0],[1.0,1.0,188.0,0.0,4.0,0.0,0.0,2.0,2.0,0.0,0.0,1.0,0.0,1.0],[3.0,2.0,0.0,174.0,2.0,2.0,12.0,3.0,0.0,0.0,1.0,1.0,0.0,0.0],[6.0,1.0,5.0,8.0,145.0,6.0,13.0,10.0,3.0,1.0,1.0,0.0,1.0,0.0],[3.0,1.0,6.0,3.0,9.0,163.0,7.0,6.0,0.0,1.0,0.0,1.0,0.0,0.0],[13.0,6.0,4.0,5.0,12.0,6.0,131.0,15.0,1.0,1.0,2.0,2.0,1.0,1.0],[9.0,4.0,5.0,2.0,4.0,4.0,20.0,145.0,0.0,2.0,2.0,0.0,3.0,0.0],[1.0,2.0,3.0,3.0,1.0,0.0,0.0,0.0,148.0,14.0,3.0,9.0,12.0,4.0],[1.0,0.0,0.0,0.0,0.0,1.0,0.0,0.0,14.0,166.0,3.0,6.0,4.0,5.0],[0.0,3.0,0.0,0.0,0.0,0.0,0.0,0.0,8.0,0.0,164.0,2.0,18.0,5.0],[0.0,0.0,2.0,1.0,0.0,1.0,0.0,0.0,18.0,14.0,5.0,152.0,1.0,6.0],[4.0,0.0,0.0,0.0,0.0,1.0,0.0,2.0,14.0,2.0,12.0,3.0,156.0,6.0],[4.0,0.0,3.0,0.0,1.0,0.0,0.0,0.0,7.0,2.0,3.0,9.0,6.0,165.0]],\"type\":\"heatmap\"}],                        {\"template\":{\"data\":{\"histogram2dcontour\":[{\"type\":\"histogram2dcontour\",\"colorbar\":{\"outlinewidth\":0,\"ticks\":\"\"},\"colorscale\":[[0.0,\"#0d0887\"],[0.1111111111111111,\"#46039f\"],[0.2222222222222222,\"#7201a8\"],[0.3333333333333333,\"#9c179e\"],[0.4444444444444444,\"#bd3786\"],[0.5555555555555556,\"#d8576b\"],[0.6666666666666666,\"#ed7953\"],[0.7777777777777778,\"#fb9f3a\"],[0.8888888888888888,\"#fdca26\"],[1.0,\"#f0f921\"]]}],\"choropleth\":[{\"type\":\"choropleth\",\"colorbar\":{\"outlinewidth\":0,\"ticks\":\"\"}}],\"histogram2d\":[{\"type\":\"histogram2d\",\"colorbar\":{\"outlinewidth\":0,\"ticks\":\"\"},\"colorscale\":[[0.0,\"#0d0887\"],[0.1111111111111111,\"#46039f\"],[0.2222222222222222,\"#7201a8\"],[0.3333333333333333,\"#9c179e\"],[0.4444444444444444,\"#bd3786\"],[0.5555555555555556,\"#d8576b\"],[0.6666666666666666,\"#ed7953\"],[0.7777777777777778,\"#fb9f3a\"],[0.8888888888888888,\"#fdca26\"],[1.0,\"#f0f921\"]]}],\"heatmap\":[{\"type\":\"heatmap\",\"colorbar\":{\"outlinewidth\":0,\"ticks\":\"\"},\"colorscale\":[[0.0,\"#0d0887\"],[0.1111111111111111,\"#46039f\"],[0.2222222222222222,\"#7201a8\"],[0.3333333333333333,\"#9c179e\"],[0.4444444444444444,\"#bd3786\"],[0.5555555555555556,\"#d8576b\"],[0.6666666666666666,\"#ed7953\"],[0.7777777777777778,\"#fb9f3a\"],[0.8888888888888888,\"#fdca26\"],[1.0,\"#f0f921\"]]}],\"heatmapgl\":[{\"type\":\"heatmapgl\",\"colorbar\":{\"outlinewidth\":0,\"ticks\":\"\"},\"colorscale\":[[0.0,\"#0d0887\"],[0.1111111111111111,\"#46039f\"],[0.2222222222222222,\"#7201a8\"],[0.3333333333333333,\"#9c179e\"],[0.4444444444444444,\"#bd3786\"],[0.5555555555555556,\"#d8576b\"],[0.6666666666666666,\"#ed7953\"],[0.7777777777777778,\"#fb9f3a\"],[0.8888888888888888,\"#fdca26\"],[1.0,\"#f0f921\"]]}],\"contourcarpet\":[{\"type\":\"contourcarpet\",\"colorbar\":{\"outlinewidth\":0,\"ticks\":\"\"}}],\"contour\":[{\"type\":\"contour\",\"colorbar\":{\"outlinewidth\":0,\"ticks\":\"\"},\"colorscale\":[[0.0,\"#0d0887\"],[0.1111111111111111,\"#46039f\"],[0.2222222222222222,\"#7201a8\"],[0.3333333333333333,\"#9c179e\"],[0.4444444444444444,\"#bd3786\"],[0.5555555555555556,\"#d8576b\"],[0.6666666666666666,\"#ed7953\"],[0.7777777777777778,\"#fb9f3a\"],[0.8888888888888888,\"#fdca26\"],[1.0,\"#f0f921\"]]}],\"surface\":[{\"type\":\"surface\",\"colorbar\":{\"outlinewidth\":0,\"ticks\":\"\"},\"colorscale\":[[0.0,\"#0d0887\"],[0.1111111111111111,\"#46039f\"],[0.2222222222222222,\"#7201a8\"],[0.3333333333333333,\"#9c179e\"],[0.4444444444444444,\"#bd3786\"],[0.5555555555555556,\"#d8576b\"],[0.6666666666666666,\"#ed7953\"],[0.7777777777777778,\"#fb9f3a\"],[0.8888888888888888,\"#fdca26\"],[1.0,\"#f0f921\"]]}],\"mesh3d\":[{\"type\":\"mesh3d\",\"colorbar\":{\"outlinewidth\":0,\"ticks\":\"\"}}],\"scatter\":[{\"fillpattern\":{\"fillmode\":\"overlay\",\"size\":10,\"solidity\":0.2},\"type\":\"scatter\"}],\"parcoords\":[{\"type\":\"parcoords\",\"line\":{\"colorbar\":{\"outlinewidth\":0,\"ticks\":\"\"}}}],\"scatterpolargl\":[{\"type\":\"scatterpolargl\",\"marker\":{\"colorbar\":{\"outlinewidth\":0,\"ticks\":\"\"}}}],\"bar\":[{\"error_x\":{\"color\":\"#2a3f5f\"},\"error_y\":{\"color\":\"#2a3f5f\"},\"marker\":{\"line\":{\"color\":\"#E5ECF6\",\"width\":0.5},\"pattern\":{\"fillmode\":\"overlay\",\"size\":10,\"solidity\":0.2}},\"type\":\"bar\"}],\"scattergeo\":[{\"type\":\"scattergeo\",\"marker\":{\"colorbar\":{\"outlinewidth\":0,\"ticks\":\"\"}}}],\"scatterpolar\":[{\"type\":\"scatterpolar\",\"marker\":{\"colorbar\":{\"outlinewidth\":0,\"ticks\":\"\"}}}],\"histogram\":[{\"marker\":{\"pattern\":{\"fillmode\":\"overlay\",\"size\":10,\"solidity\":0.2}},\"type\":\"histogram\"}],\"scattergl\":[{\"type\":\"scattergl\",\"marker\":{\"colorbar\":{\"outlinewidth\":0,\"ticks\":\"\"}}}],\"scatter3d\":[{\"type\":\"scatter3d\",\"line\":{\"colorbar\":{\"outlinewidth\":0,\"ticks\":\"\"}},\"marker\":{\"colorbar\":{\"outlinewidth\":0,\"ticks\":\"\"}}}],\"scattermapbox\":[{\"type\":\"scattermapbox\",\"marker\":{\"colorbar\":{\"outlinewidth\":0,\"ticks\":\"\"}}}],\"scatterternary\":[{\"type\":\"scatterternary\",\"marker\":{\"colorbar\":{\"outlinewidth\":0,\"ticks\":\"\"}}}],\"scattercarpet\":[{\"type\":\"scattercarpet\",\"marker\":{\"colorbar\":{\"outlinewidth\":0,\"ticks\":\"\"}}}],\"carpet\":[{\"aaxis\":{\"endlinecolor\":\"#2a3f5f\",\"gridcolor\":\"white\",\"linecolor\":\"white\",\"minorgridcolor\":\"white\",\"startlinecolor\":\"#2a3f5f\"},\"baxis\":{\"endlinecolor\":\"#2a3f5f\",\"gridcolor\":\"white\",\"linecolor\":\"white\",\"minorgridcolor\":\"white\",\"startlinecolor\":\"#2a3f5f\"},\"type\":\"carpet\"}],\"table\":[{\"cells\":{\"fill\":{\"color\":\"#EBF0F8\"},\"line\":{\"color\":\"white\"}},\"header\":{\"fill\":{\"color\":\"#C8D4E3\"},\"line\":{\"color\":\"white\"}},\"type\":\"table\"}],\"barpolar\":[{\"marker\":{\"line\":{\"color\":\"#E5ECF6\",\"width\":0.5},\"pattern\":{\"fillmode\":\"overlay\",\"size\":10,\"solidity\":0.2}},\"type\":\"barpolar\"}],\"pie\":[{\"automargin\":true,\"type\":\"pie\"}]},\"layout\":{\"autotypenumbers\":\"strict\",\"colorway\":[\"#636efa\",\"#EF553B\",\"#00cc96\",\"#ab63fa\",\"#FFA15A\",\"#19d3f3\",\"#FF6692\",\"#B6E880\",\"#FF97FF\",\"#FECB52\"],\"font\":{\"color\":\"#2a3f5f\"},\"hovermode\":\"closest\",\"hoverlabel\":{\"align\":\"left\"},\"paper_bgcolor\":\"white\",\"plot_bgcolor\":\"#E5ECF6\",\"polar\":{\"bgcolor\":\"#E5ECF6\",\"angularaxis\":{\"gridcolor\":\"white\",\"linecolor\":\"white\",\"ticks\":\"\"},\"radialaxis\":{\"gridcolor\":\"white\",\"linecolor\":\"white\",\"ticks\":\"\"}},\"ternary\":{\"bgcolor\":\"#E5ECF6\",\"aaxis\":{\"gridcolor\":\"white\",\"linecolor\":\"white\",\"ticks\":\"\"},\"baxis\":{\"gridcolor\":\"white\",\"linecolor\":\"white\",\"ticks\":\"\"},\"caxis\":{\"gridcolor\":\"white\",\"linecolor\":\"white\",\"ticks\":\"\"}},\"coloraxis\":{\"colorbar\":{\"outlinewidth\":0,\"ticks\":\"\"}},\"colorscale\":{\"sequential\":[[0.0,\"#0d0887\"],[0.1111111111111111,\"#46039f\"],[0.2222222222222222,\"#7201a8\"],[0.3333333333333333,\"#9c179e\"],[0.4444444444444444,\"#bd3786\"],[0.5555555555555556,\"#d8576b\"],[0.6666666666666666,\"#ed7953\"],[0.7777777777777778,\"#fb9f3a\"],[0.8888888888888888,\"#fdca26\"],[1.0,\"#f0f921\"]],\"sequentialminus\":[[0.0,\"#0d0887\"],[0.1111111111111111,\"#46039f\"],[0.2222222222222222,\"#7201a8\"],[0.3333333333333333,\"#9c179e\"],[0.4444444444444444,\"#bd3786\"],[0.5555555555555556,\"#d8576b\"],[0.6666666666666666,\"#ed7953\"],[0.7777777777777778,\"#fb9f3a\"],[0.8888888888888888,\"#fdca26\"],[1.0,\"#f0f921\"]],\"diverging\":[[0,\"#8e0152\"],[0.1,\"#c51b7d\"],[0.2,\"#de77ae\"],[0.3,\"#f1b6da\"],[0.4,\"#fde0ef\"],[0.5,\"#f7f7f7\"],[0.6,\"#e6f5d0\"],[0.7,\"#b8e186\"],[0.8,\"#7fbc41\"],[0.9,\"#4d9221\"],[1,\"#276419\"]]},\"xaxis\":{\"gridcolor\":\"white\",\"linecolor\":\"white\",\"ticks\":\"\",\"title\":{\"standoff\":15},\"zerolinecolor\":\"white\",\"automargin\":true,\"zerolinewidth\":2},\"yaxis\":{\"gridcolor\":\"white\",\"linecolor\":\"white\",\"ticks\":\"\",\"title\":{\"standoff\":15},\"zerolinecolor\":\"white\",\"automargin\":true,\"zerolinewidth\":2},\"scene\":{\"xaxis\":{\"backgroundcolor\":\"#E5ECF6\",\"gridcolor\":\"white\",\"linecolor\":\"white\",\"showbackground\":true,\"ticks\":\"\",\"zerolinecolor\":\"white\",\"gridwidth\":2},\"yaxis\":{\"backgroundcolor\":\"#E5ECF6\",\"gridcolor\":\"white\",\"linecolor\":\"white\",\"showbackground\":true,\"ticks\":\"\",\"zerolinecolor\":\"white\",\"gridwidth\":2},\"zaxis\":{\"backgroundcolor\":\"#E5ECF6\",\"gridcolor\":\"white\",\"linecolor\":\"white\",\"showbackground\":true,\"ticks\":\"\",\"zerolinecolor\":\"white\",\"gridwidth\":2}},\"shapedefaults\":{\"line\":{\"color\":\"#2a3f5f\"}},\"annotationdefaults\":{\"arrowcolor\":\"#2a3f5f\",\"arrowhead\":0,\"arrowwidth\":1},\"geo\":{\"bgcolor\":\"white\",\"landcolor\":\"#E5ECF6\",\"subunitcolor\":\"white\",\"showland\":true,\"showlakes\":true,\"lakecolor\":\"white\"},\"title\":{\"x\":0.05},\"mapbox\":{\"style\":\"light\"}}},\"title\":{\"font\":{\"size\":24},\"text\":\"Matrice di Confusione\",\"y\":0.95,\"x\":0.5,\"xanchor\":\"center\",\"yanchor\":\"top\"},\"xaxis\":{\"title\":{\"text\":\"Classe Predetta\"},\"side\":\"bottom\"},\"yaxis\":{\"title\":{\"text\":\"Classe Vera\"},\"autorange\":\"reversed\"},\"width\":800,\"height\":800},                        {\"responsive\": true}                    ).then(function(){\n",
       "                            \n",
       "var gd = document.getElementById('bda52074-3edf-4890-9c2c-48a3ea0c04e2');\n",
       "var x = new MutationObserver(function (mutations, observer) {{\n",
       "        var display = window.getComputedStyle(gd).display;\n",
       "        if (!display || display === 'none') {{\n",
       "            console.log([gd, 'removed!']);\n",
       "            Plotly.purge(gd);\n",
       "            observer.disconnect();\n",
       "        }}\n",
       "}});\n",
       "\n",
       "// Listen for the removal of the full notebook cells\n",
       "var notebookContainer = gd.closest('#notebook-container');\n",
       "if (notebookContainer) {{\n",
       "    x.observe(notebookContainer, {childList: true});\n",
       "}}\n",
       "\n",
       "// Listen for the clearing of the current output cell\n",
       "var outputEl = gd.closest('.output');\n",
       "if (outputEl) {{\n",
       "    x.observe(outputEl, {childList: true});\n",
       "}}\n",
       "\n",
       "                        })                };                            </script>        </div>\n",
       "</body>\n",
       "</html>"
      ]
     },
     "metadata": {},
     "output_type": "display_data"
    }
   ],
   "source": [
    "confusion_matrix, metrics = final_test(model, testloader, criterion)\n",
    "class_names = trainset.classes\n",
    "plot_confusion_matrix(confusion_matrix,class_names)"
   ]
  },
  {
   "cell_type": "markdown",
   "metadata": {},
   "source": [
    "## Conclusion"
   ]
  },
  {
   "cell_type": "markdown",
   "metadata": {},
   "source": [
    "0.8 metrics score indicates that the model has quite well learned to distinguish between most food categories. However, model might fail predicting eye-looking similar foodslike taco and taquito. Possible improvements:\n",
    "-   Guideline for taking food picks:\n",
    "    Position food items to highlight their distinctive characteristics (e.g., size, surface patterns) and maintain consistent feature visibility.\n",
    "    Use neutral backgrounds to minimize distractions and emphasize food characteristics.\n",
    "    This helps model focusing on essential features.\n",
    "\n",
    "For the second point about handling similar foods:\n",
    "-   Hierical classification:\n",
    "    Primary classifier: Categorizes foods into broad categories (e.g., burrito-like, pasta, ecc..).\n",
    "    Specialized sub-classifiers: Dedicated models trained specifically to distinguish between similar items within each category.\n",
    "    This reduces the complexity of single models avoiding overfitting when there are tens of classes.\n"
   ]
  },
  {
   "cell_type": "markdown",
   "metadata": {},
   "source": []
  }
 ],
 "metadata": {
  "accelerator": "GPU",
  "colab": {
   "gpuType": "T4",
   "provenance": []
  },
  "kernelspec": {
   "display_name": ".venv",
   "language": "python",
   "name": "python3"
  },
  "language_info": {
   "codemirror_mode": {
    "name": "ipython",
    "version": 3
   },
   "file_extension": ".py",
   "mimetype": "text/x-python",
   "name": "python",
   "nbconvert_exporter": "python",
   "pygments_lexer": "ipython3",
   "version": "3.12.0"
  }
 },
 "nbformat": 4,
 "nbformat_minor": 0
}
